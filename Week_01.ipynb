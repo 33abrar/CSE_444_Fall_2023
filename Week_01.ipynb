{
  "nbformat": 4,
  "nbformat_minor": 0,
  "metadata": {
    "colab": {
      "provenance": [],
      "mount_file_id": "1aRJ77chZiuYg1hiiPpAAaPX_Yl17X8Gf",
      "authorship_tag": "ABX9TyNS9hFybeVfXmbTzXfQd2qn",
      "include_colab_link": true
    },
    "kernelspec": {
      "name": "python3",
      "display_name": "Python 3"
    },
    "language_info": {
      "name": "python"
    }
  },
  "cells": [
    {
      "cell_type": "markdown",
      "metadata": {
        "id": "view-in-github",
        "colab_type": "text"
      },
      "source": [
        "<a href=\"https://colab.research.google.com/github/33abrar/CSE_444_Fall_2023/blob/main/Week_01.ipynb\" target=\"_parent\"><img src=\"https://colab.research.google.com/assets/colab-badge.svg\" alt=\"Open In Colab\"/></a>"
      ]
    },
    {
      "cell_type": "markdown",
      "source": [
        "Created by\n",
        "\n",
        "---\n",
        "\n",
        "Md. Mustaqim Abrar,\n",
        "\n",
        "---\n",
        "\n",
        "Lecturer, CSE, MIST\n",
        "\n",
        "---\n",
        "\n"
      ],
      "metadata": {
        "id": "QsfLJDiuZaAb"
      }
    },
    {
      "cell_type": "markdown",
      "source": [
        "#Import Libraries Pandas and Numpy"
      ],
      "metadata": {
        "id": "Yu2tJb4GJ0nE"
      }
    },
    {
      "cell_type": "code",
      "execution_count": null,
      "metadata": {
        "id": "S-sHb61XRqYM"
      },
      "outputs": [],
      "source": [
        "import numpy as np\n",
        "import pandas as pd\n",
        "\n",
        "from scipy.stats import trim_mean"
      ]
    },
    {
      "cell_type": "code",
      "source": [
        "df = pd.read_csv(\"/content/drive/MyDrive/MIST_2023/Fall/CSE-444/Introduction to Data/state.csv\")"
      ],
      "metadata": {
        "id": "5vReNdH9SPme"
      },
      "execution_count": null,
      "outputs": []
    },
    {
      "cell_type": "code",
      "source": [
        "#!wget https://github.com/llui85/olympics-tokyo2020.git"
      ],
      "metadata": {
        "id": "LzaIUUIJRzRf"
      },
      "execution_count": null,
      "outputs": []
    },
    {
      "cell_type": "code",
      "source": [
        "print(df)"
      ],
      "metadata": {
        "colab": {
          "base_uri": "https://localhost:8080/"
        },
        "id": "GstTzT1UT15P",
        "outputId": "fff43955-2ed1-49eb-dc96-8afa6ef8666e"
      },
      "execution_count": null,
      "outputs": [
        {
          "output_type": "stream",
          "name": "stdout",
          "text": [
            "             State  Population  Murder.Rate Abbreviation\n",
            "0          Alabama     4779736          5.7           AL\n",
            "1           Alaska      710231          5.6           AK\n",
            "2          Arizona     6392017          4.7           AZ\n",
            "3         Arkansas     2915918          5.6           AR\n",
            "4       California    37253956          4.4           CA\n",
            "5         Colorado     5029196          2.8           CO\n",
            "6      Connecticut     3574097          2.4           CT\n",
            "7         Delaware      897934          5.8           DE\n",
            "8          Florida    18801310          5.8           FL\n",
            "9          Georgia     9687653          5.7           GA\n",
            "10          Hawaii     1360301          1.8           HI\n",
            "11           Idaho     1567582          2.0           ID\n",
            "12        Illinois    12830632          5.3           IL\n",
            "13         Indiana     6483802          5.0           IN\n",
            "14            Iowa     3046355          1.9           IA\n",
            "15          Kansas     2853118          3.1           KS\n",
            "16        Kentucky     4339367          3.6           KY\n",
            "17       Louisiana     4533372         10.3           LA\n",
            "18           Maine     1328361          1.6           ME\n",
            "19        Maryland     5773552          6.1           MD\n",
            "20   Massachusetts     6547629          2.0           MA\n",
            "21        Michigan     9883640          5.4           MI\n",
            "22       Minnesota     5303925          1.6           MN\n",
            "23     Mississippi     2967297          8.6           MS\n",
            "24        Missouri     5988927          6.6           MO\n",
            "25         Montana      989415          3.6           MT\n",
            "26        Nebraska     1826341          2.9           NE\n",
            "27          Nevada     2700551          6.0           NV\n",
            "28   New Hampshire     1316470          0.9           NH\n",
            "29      New Jersey     8791894          3.9           NJ\n",
            "30      New Mexico     2059179          4.8           NM\n",
            "31        New York    19378102          3.1           NY\n",
            "32  North Carolina     9535483          5.1           NC\n",
            "33    North Dakota      672591          3.0           ND\n",
            "34            Ohio    11536504          4.0           OH\n",
            "35        Oklahoma     3751351          4.5           OK\n",
            "36          Oregon     3831074          2.0           OR\n",
            "37    Pennsylvania    12702379          4.8           PA\n",
            "38    Rhode Island     1052567          2.4           RI\n",
            "39  South Carolina     4625364          6.4           SC\n",
            "40    South Dakota      814180          2.3           SD\n",
            "41       Tennessee     6346105          5.7           TN\n",
            "42           Texas    25145561          4.4           TX\n",
            "43            Utah     2763885          2.3           UT\n",
            "44         Vermont      625741          1.6           VT\n",
            "45        Virginia     8001024          4.1           VA\n",
            "46      Washington     6724540          2.5           WA\n",
            "47   West Virginia     1852994          4.0           WV\n",
            "48       Wisconsin     5686986          2.9           WI\n",
            "49         Wyoming      563626          2.7           WY\n"
          ]
        }
      ]
    },
    {
      "cell_type": "markdown",
      "source": [
        "# Estimates of Location"
      ],
      "metadata": {
        "id": "3ktd9O4p3T9X"
      }
    },
    {
      "cell_type": "code",
      "source": [
        "print(type(df))\n",
        "print(type(df[\"Population\"]))"
      ],
      "metadata": {
        "colab": {
          "base_uri": "https://localhost:8080/"
        },
        "id": "slK_pvadyv-_",
        "outputId": "87dace81-33e2-45cd-f3de-d1182768d496"
      },
      "execution_count": null,
      "outputs": [
        {
          "output_type": "stream",
          "name": "stdout",
          "text": [
            "<class 'pandas.core.frame.DataFrame'>\n",
            "<class 'pandas.core.series.Series'>\n"
          ]
        }
      ]
    },
    {
      "cell_type": "code",
      "source": [
        "df"
      ],
      "metadata": {
        "id": "psjnC6QVx_GZ"
      },
      "execution_count": null,
      "outputs": []
    },
    {
      "cell_type": "markdown",
      "source": [
        "## Calculating Traditional Mean"
      ],
      "metadata": {
        "id": "IN_PN9NSKOUm"
      }
    },
    {
      "cell_type": "markdown",
      "source": [
        "![image.png](data:image/png;base64,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)"
      ],
      "metadata": {
        "id": "qkq6IXIi8SgA"
      }
    },
    {
      "cell_type": "code",
      "source": [
        "df[\"Population\"].mean()/1_000_000"
      ],
      "metadata": {
        "colab": {
          "base_uri": "https://localhost:8080/"
        },
        "id": "1KITmi0rSXst",
        "outputId": "b1e5ddd0-f565-4edf-8bf0-17e835fe562d"
      },
      "execution_count": null,
      "outputs": [
        {
          "output_type": "execute_result",
          "data": {
            "text/plain": [
              "6.1628763"
            ]
          },
          "metadata": {},
          "execution_count": 88
        }
      ]
    },
    {
      "cell_type": "code",
      "source": [
        "df[\"Murder.Rate\"].mean()"
      ],
      "metadata": {
        "colab": {
          "base_uri": "https://localhost:8080/"
        },
        "id": "ysNAfxdHUSIu",
        "outputId": "8ec9037e-67df-4b9d-fd47-dbd7eaa28a8b"
      },
      "execution_count": null,
      "outputs": [
        {
          "output_type": "execute_result",
          "data": {
            "text/plain": [
              "4.066"
            ]
          },
          "metadata": {},
          "execution_count": 89
        }
      ]
    },
    {
      "cell_type": "markdown",
      "source": [
        "## Using Population as Weight"
      ],
      "metadata": {
        "id": "F3ON19t5KAdA"
      }
    },
    {
      "cell_type": "markdown",
      "source": [
        "![image.png](data:image/png;base64,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)"
      ],
      "metadata": {
        "id": "btEa7mbE8Wmd"
      }
    },
    {
      "cell_type": "code",
      "source": [
        "np.average(df[\"Murder.Rate\"], weights = df[\"Population\"])"
      ],
      "metadata": {
        "colab": {
          "base_uri": "https://localhost:8080/"
        },
        "id": "QJDCgjSASYQN",
        "outputId": "e443b245-1145-41fc-ef52-97cd017f55c1"
      },
      "execution_count": null,
      "outputs": [
        {
          "output_type": "execute_result",
          "data": {
            "text/plain": [
              "4.445833981123393"
            ]
          },
          "metadata": {},
          "execution_count": 79
        }
      ]
    },
    {
      "cell_type": "markdown",
      "source": [
        "## Trimmimg the **highest** 10% and lowest 10%"
      ],
      "metadata": {
        "id": "rJqcH_f8KWhZ"
      }
    },
    {
      "cell_type": "markdown",
      "source": [
        "![image.png](data:image/png;base64,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)"
      ],
      "metadata": {
        "id": "iFFBPXk_8ml0"
      }
    },
    {
      "cell_type": "code",
      "source": [
        "trim_mean(df[\"Murder.Rate\"], 0.1)"
      ],
      "metadata": {
        "colab": {
          "base_uri": "https://localhost:8080/"
        },
        "id": "eqHBy9jNWeV-",
        "outputId": "10b7ebf2-69e2-454a-d83d-49e342d84a5f"
      },
      "execution_count": null,
      "outputs": [
        {
          "output_type": "execute_result",
          "data": {
            "text/plain": [
              "3.9450000000000003"
            ]
          },
          "metadata": {},
          "execution_count": 93
        }
      ]
    },
    {
      "cell_type": "markdown",
      "source": [
        "## Finding the middle value"
      ],
      "metadata": {
        "id": "rOFDQqBRKfG8"
      }
    },
    {
      "cell_type": "markdown",
      "source": [
        "![image.png](data:image/png;base64,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)"
      ],
      "metadata": {
        "id": "SCaSlif8-KG_"
      }
    },
    {
      "cell_type": "code",
      "source": [
        "df[\"Murder.Rate\"].median()"
      ],
      "metadata": {
        "colab": {
          "base_uri": "https://localhost:8080/"
        },
        "id": "nxRxbX6lWn7d",
        "outputId": "3ccb8e5b-0783-481d-a155-01722d16e5e5"
      },
      "execution_count": null,
      "outputs": [
        {
          "output_type": "execute_result",
          "data": {
            "text/plain": [
              "4.0"
            ]
          },
          "metadata": {},
          "execution_count": 76
        }
      ]
    },
    {
      "cell_type": "markdown",
      "source": [
        "## Using Percentile"
      ],
      "metadata": {
        "id": "a11otCYnK1dM"
      }
    },
    {
      "cell_type": "code",
      "source": [
        "np.percentile(df[\"Murder.Rate\"], 75)"
      ],
      "metadata": {
        "colab": {
          "base_uri": "https://localhost:8080/"
        },
        "id": "AEeU4kjxW141",
        "outputId": "97e3e195-a904-4a3d-f1bc-496fbec8d0ee"
      },
      "execution_count": null,
      "outputs": [
        {
          "output_type": "execute_result",
          "data": {
            "text/plain": [
              "5.55"
            ]
          },
          "metadata": {},
          "execution_count": 19
        }
      ]
    },
    {
      "cell_type": "code",
      "source": [
        "df.describe()"
      ],
      "metadata": {
        "colab": {
          "base_uri": "https://localhost:8080/",
          "height": 300
        },
        "id": "mXInlUzNUGwt",
        "outputId": "16cea84f-cb0d-4206-8db8-378f98658bb4"
      },
      "execution_count": null,
      "outputs": [
        {
          "output_type": "execute_result",
          "data": {
            "text/plain": [
              "         Population  Murder.Rate\n",
              "count  5.000000e+01    50.000000\n",
              "mean   6.162876e+06     4.066000\n",
              "std    6.848235e+06     1.915736\n",
              "min    5.636260e+05     0.900000\n",
              "25%    1.833004e+06     2.425000\n",
              "50%    4.436370e+06     4.000000\n",
              "75%    6.680312e+06     5.550000\n",
              "max    3.725396e+07    10.300000"
            ],
            "text/html": [
              "\n",
              "  <div id=\"df-112664e4-835d-4f94-87ec-a99d3130b5e0\" class=\"colab-df-container\">\n",
              "    <div>\n",
              "<style scoped>\n",
              "    .dataframe tbody tr th:only-of-type {\n",
              "        vertical-align: middle;\n",
              "    }\n",
              "\n",
              "    .dataframe tbody tr th {\n",
              "        vertical-align: top;\n",
              "    }\n",
              "\n",
              "    .dataframe thead th {\n",
              "        text-align: right;\n",
              "    }\n",
              "</style>\n",
              "<table border=\"1\" class=\"dataframe\">\n",
              "  <thead>\n",
              "    <tr style=\"text-align: right;\">\n",
              "      <th></th>\n",
              "      <th>Population</th>\n",
              "      <th>Murder.Rate</th>\n",
              "    </tr>\n",
              "  </thead>\n",
              "  <tbody>\n",
              "    <tr>\n",
              "      <th>count</th>\n",
              "      <td>5.000000e+01</td>\n",
              "      <td>50.000000</td>\n",
              "    </tr>\n",
              "    <tr>\n",
              "      <th>mean</th>\n",
              "      <td>6.162876e+06</td>\n",
              "      <td>4.066000</td>\n",
              "    </tr>\n",
              "    <tr>\n",
              "      <th>std</th>\n",
              "      <td>6.848235e+06</td>\n",
              "      <td>1.915736</td>\n",
              "    </tr>\n",
              "    <tr>\n",
              "      <th>min</th>\n",
              "      <td>5.636260e+05</td>\n",
              "      <td>0.900000</td>\n",
              "    </tr>\n",
              "    <tr>\n",
              "      <th>25%</th>\n",
              "      <td>1.833004e+06</td>\n",
              "      <td>2.425000</td>\n",
              "    </tr>\n",
              "    <tr>\n",
              "      <th>50%</th>\n",
              "      <td>4.436370e+06</td>\n",
              "      <td>4.000000</td>\n",
              "    </tr>\n",
              "    <tr>\n",
              "      <th>75%</th>\n",
              "      <td>6.680312e+06</td>\n",
              "      <td>5.550000</td>\n",
              "    </tr>\n",
              "    <tr>\n",
              "      <th>max</th>\n",
              "      <td>3.725396e+07</td>\n",
              "      <td>10.300000</td>\n",
              "    </tr>\n",
              "  </tbody>\n",
              "</table>\n",
              "</div>\n",
              "    <div class=\"colab-df-buttons\">\n",
              "\n",
              "  <div class=\"colab-df-container\">\n",
              "    <button class=\"colab-df-convert\" onclick=\"convertToInteractive('df-112664e4-835d-4f94-87ec-a99d3130b5e0')\"\n",
              "            title=\"Convert this dataframe to an interactive table.\"\n",
              "            style=\"display:none;\">\n",
              "\n",
              "  <svg xmlns=\"http://www.w3.org/2000/svg\" height=\"24px\" viewBox=\"0 -960 960 960\">\n",
              "    <path d=\"M120-120v-720h720v720H120Zm60-500h600v-160H180v160Zm220 220h160v-160H400v160Zm0 220h160v-160H400v160ZM180-400h160v-160H180v160Zm440 0h160v-160H620v160ZM180-180h160v-160H180v160Zm440 0h160v-160H620v160Z\"/>\n",
              "  </svg>\n",
              "    </button>\n",
              "\n",
              "  <style>\n",
              "    .colab-df-container {\n",
              "      display:flex;\n",
              "      gap: 12px;\n",
              "    }\n",
              "\n",
              "    .colab-df-convert {\n",
              "      background-color: #E8F0FE;\n",
              "      border: none;\n",
              "      border-radius: 50%;\n",
              "      cursor: pointer;\n",
              "      display: none;\n",
              "      fill: #1967D2;\n",
              "      height: 32px;\n",
              "      padding: 0 0 0 0;\n",
              "      width: 32px;\n",
              "    }\n",
              "\n",
              "    .colab-df-convert:hover {\n",
              "      background-color: #E2EBFA;\n",
              "      box-shadow: 0px 1px 2px rgba(60, 64, 67, 0.3), 0px 1px 3px 1px rgba(60, 64, 67, 0.15);\n",
              "      fill: #174EA6;\n",
              "    }\n",
              "\n",
              "    .colab-df-buttons div {\n",
              "      margin-bottom: 4px;\n",
              "    }\n",
              "\n",
              "    [theme=dark] .colab-df-convert {\n",
              "      background-color: #3B4455;\n",
              "      fill: #D2E3FC;\n",
              "    }\n",
              "\n",
              "    [theme=dark] .colab-df-convert:hover {\n",
              "      background-color: #434B5C;\n",
              "      box-shadow: 0px 1px 3px 1px rgba(0, 0, 0, 0.15);\n",
              "      filter: drop-shadow(0px 1px 2px rgba(0, 0, 0, 0.3));\n",
              "      fill: #FFFFFF;\n",
              "    }\n",
              "  </style>\n",
              "\n",
              "    <script>\n",
              "      const buttonEl =\n",
              "        document.querySelector('#df-112664e4-835d-4f94-87ec-a99d3130b5e0 button.colab-df-convert');\n",
              "      buttonEl.style.display =\n",
              "        google.colab.kernel.accessAllowed ? 'block' : 'none';\n",
              "\n",
              "      async function convertToInteractive(key) {\n",
              "        const element = document.querySelector('#df-112664e4-835d-4f94-87ec-a99d3130b5e0');\n",
              "        const dataTable =\n",
              "          await google.colab.kernel.invokeFunction('convertToInteractive',\n",
              "                                                    [key], {});\n",
              "        if (!dataTable) return;\n",
              "\n",
              "        const docLinkHtml = 'Like what you see? Visit the ' +\n",
              "          '<a target=\"_blank\" href=https://colab.research.google.com/notebooks/data_table.ipynb>data table notebook</a>'\n",
              "          + ' to learn more about interactive tables.';\n",
              "        element.innerHTML = '';\n",
              "        dataTable['output_type'] = 'display_data';\n",
              "        await google.colab.output.renderOutput(dataTable, element);\n",
              "        const docLink = document.createElement('div');\n",
              "        docLink.innerHTML = docLinkHtml;\n",
              "        element.appendChild(docLink);\n",
              "      }\n",
              "    </script>\n",
              "  </div>\n",
              "\n",
              "\n",
              "<div id=\"df-e64425a0-9e9b-4a7e-86ac-f4f85df1512c\">\n",
              "  <button class=\"colab-df-quickchart\" onclick=\"quickchart('df-e64425a0-9e9b-4a7e-86ac-f4f85df1512c')\"\n",
              "            title=\"Suggest charts.\"\n",
              "            style=\"display:none;\">\n",
              "\n",
              "<svg xmlns=\"http://www.w3.org/2000/svg\" height=\"24px\"viewBox=\"0 0 24 24\"\n",
              "     width=\"24px\">\n",
              "    <g>\n",
              "        <path d=\"M19 3H5c-1.1 0-2 .9-2 2v14c0 1.1.9 2 2 2h14c1.1 0 2-.9 2-2V5c0-1.1-.9-2-2-2zM9 17H7v-7h2v7zm4 0h-2V7h2v10zm4 0h-2v-4h2v4z\"/>\n",
              "    </g>\n",
              "</svg>\n",
              "  </button>\n",
              "\n",
              "<style>\n",
              "  .colab-df-quickchart {\n",
              "    background-color: #E8F0FE;\n",
              "    border: none;\n",
              "    border-radius: 50%;\n",
              "    cursor: pointer;\n",
              "    display: none;\n",
              "    fill: #1967D2;\n",
              "    height: 32px;\n",
              "    padding: 0 0 0 0;\n",
              "    width: 32px;\n",
              "  }\n",
              "\n",
              "  .colab-df-quickchart:hover {\n",
              "    background-color: #E2EBFA;\n",
              "    box-shadow: 0px 1px 2px rgba(60, 64, 67, 0.3), 0px 1px 3px 1px rgba(60, 64, 67, 0.15);\n",
              "    fill: #174EA6;\n",
              "  }\n",
              "\n",
              "  [theme=dark] .colab-df-quickchart {\n",
              "    background-color: #3B4455;\n",
              "    fill: #D2E3FC;\n",
              "  }\n",
              "\n",
              "  [theme=dark] .colab-df-quickchart:hover {\n",
              "    background-color: #434B5C;\n",
              "    box-shadow: 0px 1px 3px 1px rgba(0, 0, 0, 0.15);\n",
              "    filter: drop-shadow(0px 1px 2px rgba(0, 0, 0, 0.3));\n",
              "    fill: #FFFFFF;\n",
              "  }\n",
              "</style>\n",
              "\n",
              "  <script>\n",
              "    async function quickchart(key) {\n",
              "      const charts = await google.colab.kernel.invokeFunction(\n",
              "          'suggestCharts', [key], {});\n",
              "    }\n",
              "    (() => {\n",
              "      let quickchartButtonEl =\n",
              "        document.querySelector('#df-e64425a0-9e9b-4a7e-86ac-f4f85df1512c button');\n",
              "      quickchartButtonEl.style.display =\n",
              "        google.colab.kernel.accessAllowed ? 'block' : 'none';\n",
              "    })();\n",
              "  </script>\n",
              "</div>\n",
              "    </div>\n",
              "  </div>\n"
            ]
          },
          "metadata": {},
          "execution_count": 95
        }
      ]
    },
    {
      "cell_type": "markdown",
      "source": [
        "# Estimates of Variability"
      ],
      "metadata": {
        "id": "BklPDjej3ZYO"
      }
    },
    {
      "cell_type": "markdown",
      "source": [
        "## Variance\n",
        "## Standard Deviation"
      ],
      "metadata": {
        "id": "WKKymk2nBnDw"
      }
    },
    {
      "cell_type": "code",
      "source": [
        "from statistics import variance, stdev"
      ],
      "metadata": {
        "id": "W6aPqYe2a8P8"
      },
      "execution_count": null,
      "outputs": []
    },
    {
      "cell_type": "markdown",
      "source": [
        "![image.png](data:image/png;base64,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)"
      ],
      "metadata": {
        "id": "9nlLrExZBTGF"
      }
    },
    {
      "cell_type": "code",
      "source": [
        "variance(df[\"Murder.Rate\"])"
      ],
      "metadata": {
        "colab": {
          "base_uri": "https://localhost:8080/"
        },
        "id": "umAp79VSbGR7",
        "outputId": "aa413e81-9063-4f11-8884-1bff9149937e"
      },
      "execution_count": null,
      "outputs": [
        {
          "output_type": "execute_result",
          "data": {
            "text/plain": [
              "3.6700448979591838"
            ]
          },
          "metadata": {},
          "execution_count": 5
        }
      ]
    },
    {
      "cell_type": "code",
      "source": [
        "stdev(df[\"Murder.Rate\"])"
      ],
      "metadata": {
        "colab": {
          "base_uri": "https://localhost:8080/"
        },
        "id": "SV7rzysvbRBN",
        "outputId": "a3cac747-12e6-4b10-f332-356e01b639d2"
      },
      "execution_count": null,
      "outputs": [
        {
          "output_type": "execute_result",
          "data": {
            "text/plain": [
              "1.9157361243029227"
            ]
          },
          "metadata": {},
          "execution_count": 6
        }
      ]
    },
    {
      "cell_type": "code",
      "source": [
        "df[\"Murder.Rate\"].std()"
      ],
      "metadata": {
        "colab": {
          "base_uri": "https://localhost:8080/"
        },
        "id": "nXHxgqTvUkxO",
        "outputId": "7042b913-885f-4de4-b91e-958d2e95b23a"
      },
      "execution_count": null,
      "outputs": [
        {
          "output_type": "execute_result",
          "data": {
            "text/plain": [
              "1.9157361243029227"
            ]
          },
          "metadata": {},
          "execution_count": 7
        }
      ]
    },
    {
      "cell_type": "markdown",
      "source": [
        "![image.png](data:image/png;base64,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)"
      ],
      "metadata": {
        "id": "fZQNb_l8DTRm"
      }
    },
    {
      "cell_type": "markdown",
      "source": [
        "![image.png](data:image/png;base64,iVBORw0KGgoAAAANSUhEUgAAATgAAAAwCAYAAACFW2azAAAAAXNSR0IArs4c6QAAAARnQU1BAACxjwv8YQUAAAAJcEhZcwAAEnQAABJ0Ad5mH3gAABORSURBVHhe7Z0HsBRFE4DHjCgqKhjAnFFEwQRiVgwgQqko5lJMmItSCxATKiqKOYARI2oZUcCIATGAmHPOWTFn5++v34zsLXvxvXc87u+v6oq3c7d7szPdPd09vcccXnCGYRg1yJzhX8MwjJrDDJxhGDWLGTjDMGoWM3CGYdQsZuAMw6hZzMAZhlGzmIEzDKNmMQNnGEbNYgbOMIyaxQycYRg1ixk4wzBqFjNwJcIju88995x78803Q4thGE2dgg/bT58+3U2YMMH9888/oUVOmGMOt9BCC7m2bdu6Dh066HGt8ffff7vvv//etWrVSg3bPffc484880w3depUd/PNN7tddtklfLI8PvzwQ/fXX3+5lVdeWY/5+/7773e//PKLHsOcc87pWrdurZ9p06aNtnHe/PPPr+2zkhdeeMGts8464SgXZGSuueYKR00Hxvapp55yW221VU3KqlGYgh7c3HPPrQp3+umnu7333tvdcccd7scff1Sl3H777d2GG27oXnrppfDp2ROMWZphw4a5FVdc0b344ouqFDvttJM75phjwruV8dlnn7n999/fNWvWLLTU8dNPP7mTTz7Z7b777jq+X331lbvwwgtdx44d3SmnnOJ+++03NbJ9+/Z1X3/9dTiruvzxxx9ujz32UAMfYdw++eQTN378eNerVy93xRVXhHeaFvPMM48bOXKku/3220OL8X8FHlwxBg0a5Oedd14/ceLE0OL9008/7Vu0aOHbtWvnRdBD6+zFn3/+6U877TQv3kdoqePyyy/3a6yxhpdwNLR4L16cF4Pvb7vtttBSOt98843v1KmTf/jhh0NLLocddphfYIEF/DvvvKPHYjz8iBEjvCinv/jii/2///7rR48e7bfeemsvBk8/U03OPvts7aN4nKHFe/FwvRg1Lwudl0XQi1EO7zQ96KssxnnH36hdSsrBNW/eXD2ZZAiywQYbuO2228699tpr7oEHHgitsw9iNNzAgQPdDTfcoB5SkoMPPljva9VVVw0tdaF5peARLrnkkm6zzTYLLTOgH3zXcsstp58BxlmMmZNFRcMrvnufffZx8803nxODp5+pFnz/ZZdd5oYOHaoefWSRRRZx/fr1q7dnWw3o66GHHuqOOuqonHRAUwLP/f33359JFo36UfEmA0q39tpr699ffPGF/puEkOytt97KnDBye4Rm8O677zrxpPTvNJz/6aefZl5DvCL3yiuvqIFIQ26L94HvefXVV2f6HDkjNgyyzgfOIxwvFfG+3JdffhmOZsD1r7/+eideUGaO6rvvvtN+EJKKFxda64wcY5xUSJT0hBNO0HOqAX0n9yjepxqJLGZF3o25/eGHH8JRNozbr7/+Go6c22uvvdSISOQRWnJBXpNw78hetSDEFy9ZZbdU0IsPPvig6Dnp1AafT8sqOpilx7M7FRs4BODll1/WHN2aa64ZWusS0eSarrrqKs0hobiPPvqovnfXXXe5LbbYwq2++up67g477KBe0p577qnvw3vvvacrLR5L//793SqrrKL5qTiJb7/9ttt3333dRRdd5C655BJNxmNA4PHHH9drLrHEEu7SSy91hx9+uNtkk03U21xhhRXcY489pp9D8E899VTNHzLRBx54oL7eeOMNd91117n11lvPLb300u7555/Xz+eDMeCeOPeWW27RfuJ5sSkQueCCC9Qzk1A+tOSCYcRgbbrppqGlDvJ/5L6SSf327dvrZgPfWQ1YiJ555hmdi/p4sA0FCs2cM5fMXwSDxyYCYxlBRjbaaKNwVGeIaTvyyCNzFkzyiJy72mqrOQlhtQ054FzktFo5ZhbccowbBhy9Qa6efPLJ0OpU13beeWeVHUC20METTzxRj6kEwDFBJz7//HNte+ihh1TPunbtqsc1hUx2UchTSXjkxYDosSi2l4HUNglT/e+//67tothehO+/z4EYHL/88st7WT011yVGxzdr1syL0vgbb7zRH3vssV6Mg35WVhrfpUsXf9999+kxkOsToda/yZl1797dX3PNNXpMrkpWZt+2bVu9Plx77bVehNmLgHpx+bWNvpLj2m233fQYuFaPHj28GFi9TpIhQ4bovXFeZOzYsTPl4MRg+jZt2vz3PSJ0XgTlvzFhnDp37uz79u2r72fBvTVv3txPmTJFjzlHQlYdsw4dOnhZVbUd6DPfJ0oaWrKRxUPvXwS74GvChAnhjGy4jhg2zSHmg7xWtXJw5EFl8fPLLLNMzlyOHDlS51yMcWjxKmeixOGojjvvvFPvRxQ7tHgvi7DK2FprreV33HFHlUFZqLws1H7SpEkz5WcbC/pBjlUMU2jJD59hHAYOHKgyOWbMGG1HjrkHMcxeog9tE6PpxXj74cOHq3wecsghel+LLrqoP+ecc/zrr7+u53z00Ud+8uTJek4tUbKBQ4gZCFkJ1DihaL1799aBiQwYMEAVHEET70f/7dWrlxevQ48BRUAYSeQnhYeJ4Lq88gkVxoDrcy0E8Nlnn9XkN9cbN26cfgaFY0OEBHhEwk0vXqYmmiOFDBwKU4qBI8Hes2dPL96WnzZtmgqIeFxePEgvIY8XD8i3bt3aDx48OJyRC/fZr18/3UxAqST8VMVFgSUc9RIihU/OAAO/7bbbhqNsfv75Zz916lQdn0Kvb7/9NpyRDQqw7LLLhqNsqmng2CxgTBljZA8kRFMFxnCNHz9e25hP5kU8XT2OMD/pecV4s6iw0LZs2VLHn+vQVk3KMXDIDQs6OoDsSNSh7TfddJPeA7oZF/yPP/5YFzvuk3Fhzrk35IiNNBZf8Vj1s7VIySEqCWbKJah/I2wiTGLrXZRR35dBUxcf15m8jSiHE29Kw9dzzz1Xyy6AUEGEzG288cYa3kbEUDpZYdXlTrZHKJdgQ4DcC+EJOS3C4BYtWrgRI0aoyw0xlEqGVJQKkEOKbnsxkufmg/yMGAkNR+nP+eefrzVyjBH3u9hii2kej9wG9XRZEJIQcougaZjL5zifUJsQmzA5DSF9Vq4vCbk88mbrr79+wZes4uGMbGR1d2LgwlH9IeymX+It5X3xPrnVLJhDZIf7E2XVF+O+6667auguyqufo4yJDRpZCPQ4gqwgx+TiIswT873llluqbK200kq6eVaKDNQH5Jc60vhiI4d0AOmR2Eb5jUQC4YwZoB/ICmOBPiFH5BCvvPJKJwZadRB9oZ0NLvKP3CefZc7j/SJ7yBvhea1SsoFjUFAuFJGdMyYiKQQMKAKGIZOVRI0RSirenybHKQ4uBAlO8TzC0cww0QgmCodhlfDWiReoE0hehQmsJvQXQUIZxKtzo0eP1vo1atrIjaBgGH1AsLLA4MoKq/kPcnDcB/VuEp6GT8wMQi0reDhqXDDOGISGghziE088oYqc78X7+fKVgHJjzBgDNqg4pkaTfiJ/yCGKziKbrjlkHpDZrPFjMeEaxTYvyEsWgpyXOA7hKD9HH3207lDHFzvS6BSLW2xjwUzfQxJkjMWb+0EGxQtV5wPDj2ySP2SD4YADDghnzADHhH4W0jkodr+NCfpTrH/FqHiTIQ2lJBgZhC6upOXAuSjvgw8+mLlqMdFsHrBrxKuhKEUYs2DjAE8CgUzu1iVB+FCorPsBPDEUAi83nxFMw85uIaEHdo3xkLO8tuSrWHnPwgsvnPfeKgFjhJwwbvlevJ/lwUeigUOB8ZxRXs5D2VFmjBubPXhiafBoUBrkLAkLDZtLbFBRuJxvl5qFm4U1DTLEBgfXwTBRGF9Mrugv9xpfyAoykGzjPgvBORhlPG3mnA089AgDxwbC1VdfrZFUWl7w9iRM1w06ntKJC3ESjCYbE3wuDePIdzb0QsuYJfvC3yxU9957b2gpn5IMHDfElzNw+UCRebIBpWVgo2Kg3OzcsLICneZaaQFgRWEFe+SRR7TWK4aT/Dtx4kT1Jnr06KHCh6fDo1RAnxjs+H3xusnr83f83gj9RaBQlPSqzefiKxL/jv8utdRSapi4NyaAMQLCUkoRmHzCAYQ0X7nBtGnTdIUiNEt6w4VgZ5eauULQL3bWpkyZUvDVrVu3cEY27CRSqpOlAJE4rg0t7PlgnFBY+k8YR3jP8YILLqgGGy+QsCsLZIZ5YvzoM/PO+A8aNEi9RuQKw4AM8lkW2wi1imeddVamN0Rf8JwIwXnCBy+0GjvdGDgM/pgxY7TEBMONzKETZ5xxhu6KxhQD84RsEgVxD0QKeL70lTIlDDTGOULFAW2EyWnwLLk2O9ANAX2iEqJLly5u8uTJobUuLcbcYKTZKa+EogYulgowaAhQPm8ECF0xVBSFEnIRqhHrjxs3TicC4UIYMFYYgaTisGIRcpLjGzJkiBbF9unTR1clBh4hpnwkXo8B5plQjjkvrvpxZaHcJIKwsmrhWcb8C4OHUGKQ6Td5PFYzYMK5BteKIOC04fbTb76PwUfIEBjKQ+gveZ9o0BA4PCW82jQIB9/JuFLgWYqBwIhzX6QKqgFjjAFIlr0koc+TJk1SY8FKHxedxoRxx/vB+GKQosEjv0Y/KB9Ke2gR0gH0mfGL5SGUETGHPIq27rrrqvwOGDBAjT+eYYT0AyUqaW8IKCchbcJCRf/wBvl8Y8MCTd8Jd2NNasuWLXUcyGWSm4wwPxgQ5BPDxt/xmWo+d9BBB+XkfDGQpH+yYNx4rDArR1wJOD+MG7lX+p4Eu0B/hw8fHlrKY66TSRrlgdWban8ECq8AY0fNDAl9Vsw0iy++uIYHCDqeFspL/o16NgwKCo1gcS2UGsUnlIreCw+Tk9PifF6cQ00dgx/zDd27d1dDyfsYyt69e7vjjz9e3yfnh+fC9VmdWY0RZurxcN1ZzVixOnbsqDlBhIJcGgpMorVnz566WmBEuAYbHxhEzsFzoo37YjXBcOHiE9ZwDcYGhcA4cw/R4DJOeLTU5MUwlAUDASJpjlJwPqEuypZPOYEVlXtEoKth5LiHW2+9VeeV+02CEccQMMbcA3PDAsgYN5TgZ4GsoAgYpOQY0IbBK5S/I7HPnKEwyCZeClEHKoDhQoaQOeaYMDPWhTE/yNDgwYMzDRznYGAJ6ekfc05OFoMZn04pBosv5yEDUXaKgbFm4UX+oz6iG8gv/U/mvUlt4FTgue23334qi/QXPWLuMN4x98u4jB071h1xxBF6b2mQUa7NPecDQ3XeeeepoY1ynw/0gL6waYj9SEcozAvODbYAg1cW0pEGRzwcLcMQIQot5VHK+TKROc9GVooISb2vwzXoL/+m4V6oOYu1SvVBBMDL5Fc8rpUgRsNvvvnmen9NBeaLcU2S1ZZEFNmLEfivZhEYx/Q5HKflgeeAJSLJHAPmXAyBllyIkQqt3ktUoO2NTbqvWf2PZLXT/7Q8yQLqZQEJR7mIR6+1rZThFJIJrkvZCyVapUC5jzghOTW0EWr6WrVq9V8pWDmUtlSUCasYq0Ixy52PUs5nZclaXcqF1bK+1+Ea9Ddr5eVe8GBJiNdnR4oVmF/FIIle6bhWAjtzeDSE7U0F5otxTZLVFhGl1/zZNttsk+NdMo7pczhOywO/okLOlTlOQrqGUJRoBO896d3hDeGVi46FlsYh3des/key2pHZpDyJYdLUDNFKGuSA/DhpnbjrXA3wTtlgzEr1FKNRDJyRCzk6ch5s5VcCCkroS/hCzrGakBMlr8VjTg25o1pNSDUQdlGXSbhTLhgwcnNpMGikC8h7kc9N7nqSbiF8j5tlswvizelCnFWqxAbGcccdp0aR3Hh6cSBfS4qIlA65WdJE5M85pl08vvDJ8uB7SEeQKigXM3BVAiNBnogdunJBWMiDUVOY5SU2NuRJMbAU1c5ukC8lD0wetFgtZhZ4YLwKec0UzLLwJBU+zlNje3ANTbH7xYsjb0duLQ2bBeTt8fZ5sSAmjzGelYL3zEJfNnIzRhWpJJdFXiUrv1dt8uV2mjoSSoa/KqNPnz6+f//+4SgX8m7iXeT8diDwTDSPTDWl3GUpiMfpu3bt6keNGhVaciFH1r59+6KPlDVkDg66devmhw4dGo5Kxzy4KpPO45QCnsGs8NzSVCvn0tAU2pkuBXbb2ZnM8iD45RGuzy+cJKFagPMqme9ZCSE8+UbuKwvCTcLXSkL9QpD7Y3yzxpj3KGQuVv+ZhRk4wyhC586dtVwoK5+GwvPURNqQUdJDudDsCKUzGLi0sREPXtMlseauoaD0jE04CpEpJaPGLvndPKFC+Eu9YdkET84wjDyIsmmpD78Qk4Twk1+UGTZsWGipg8936tSp3qHxrEKMuZa9TJ8+PbTUwS+S8HNod999d2ipDvwsWbt27XRcy8U8OMMoAikCfsaeQtQkJNspXeDxrCQUyZKEr29oPKvgl0q4JwqDk7CLyUYNm07VhF8Zomg4vWtbCmbgDKMEqLAnlGInnHIHnn7h6RaeiuBXUiKEUzzixGN8szM8vsiuPfdD6EhOkZIP2ngqqFrwbCo74ZSlVIIZOMMoATwXnoEmP8QvjpCH4nfnYl1YhAfRefi9koR4U4L6R349hUfOTjrpJH0cj7wYjyZWC8pMJBx2o0aNqnizpuB//GwYRi6oCwlvPDiKT9P1YhiBprDj3VBwv3hx/OpOeqe4GvD9lYSmETNwhmHULBaiGoZRs5iBMwyjZjEDZxhGzWIGzjCMmsUMnGEYNYsZOMMwahYzcIZh1Cxm4AzDqFGc+x9nI4hyiN1hVAAAAABJRU5ErkJggg==)"
      ],
      "metadata": {
        "id": "VCmgJBUoDYpH"
      }
    },
    {
      "cell_type": "code",
      "source": [
        "df[\"Murder.Rate\"].quantile(0.75)"
      ],
      "metadata": {
        "colab": {
          "base_uri": "https://localhost:8080/"
        },
        "id": "UDorT0F3r_vg",
        "outputId": "721c36c0-b6be-4d04-b842-2f5f738c6089"
      },
      "execution_count": null,
      "outputs": [
        {
          "output_type": "execute_result",
          "data": {
            "text/plain": [
              "5.55"
            ]
          },
          "metadata": {},
          "execution_count": 36
        }
      ]
    },
    {
      "cell_type": "code",
      "source": [
        "df[\"Murder.Rate\"].quantile(0.75) - df[\"Murder.Rate\"].quantile(0.25)"
      ],
      "metadata": {
        "colab": {
          "base_uri": "https://localhost:8080/"
        },
        "id": "xWgkulxYaG1N",
        "outputId": "c6737581-c4bb-4ed5-9de5-345c2f241124"
      },
      "execution_count": null,
      "outputs": [
        {
          "output_type": "execute_result",
          "data": {
            "text/plain": [
              "3.125"
            ]
          },
          "metadata": {},
          "execution_count": 17
        }
      ]
    },
    {
      "cell_type": "code",
      "source": [
        "from numpy import mean, absolute"
      ],
      "metadata": {
        "id": "BT4bMFtpbxyX"
      },
      "execution_count": null,
      "outputs": []
    },
    {
      "cell_type": "markdown",
      "source": [
        "![image.png](data:image/png;base64,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)"
      ],
      "metadata": {
        "id": "MV18fv5SCQKa"
      }
    },
    {
      "cell_type": "code",
      "source": [
        "mean(absolute(df[\"Murder.Rate\"] - df[\"Murder.Rate\"].mean()))"
      ],
      "metadata": {
        "colab": {
          "base_uri": "https://localhost:8080/"
        },
        "id": "7J34VZfJbrCV",
        "outputId": "b92dc242-fd52-4587-ab5d-30870ef001cf"
      },
      "execution_count": null,
      "outputs": [
        {
          "output_type": "execute_result",
          "data": {
            "text/plain": [
              "11.602497398543179"
            ]
          },
          "metadata": {},
          "execution_count": 48
        }
      ]
    },
    {
      "cell_type": "markdown",
      "source": [
        "11.602497398543179"
      ],
      "metadata": {
        "id": "ofXzZERGCxUH"
      }
    },
    {
      "cell_type": "code",
      "source": [
        "print(df[\"Murder.Rate\"].quantile([0.05, 0.25, 0.5, 0.75, 0.95]))"
      ],
      "metadata": {
        "colab": {
          "base_uri": "https://localhost:8080/"
        },
        "id": "__kE99tJcf61",
        "outputId": "d894a768-12b4-4dfe-ba87-cdf5d35a5b3e"
      },
      "execution_count": null,
      "outputs": [
        {
          "output_type": "stream",
          "name": "stdout",
          "text": [
            "0.05    1.600\n",
            "0.25    2.425\n",
            "0.50    4.000\n",
            "0.75    5.550\n",
            "0.95    6.510\n",
            "Name: Murder.Rate, dtype: float64\n"
          ]
        }
      ]
    },
    {
      "cell_type": "markdown",
      "source": [
        "![image.png](data:image/png;base64,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)"
      ],
      "metadata": {
        "id": "eZekklSxDHV1"
      }
    },
    {
      "cell_type": "code",
      "source": [
        "np.median(absolute(df[\"Murder.Rate\"] - df[\"Murder.Rate\"].median()))"
      ],
      "metadata": {
        "id": "4haG_ZyhDh_A",
        "colab": {
          "base_uri": "https://localhost:8080/"
        },
        "outputId": "d533341d-b985-424d-e73b-23df6a72b15f"
      },
      "execution_count": null,
      "outputs": [
        {
          "output_type": "execute_result",
          "data": {
            "text/plain": [
              "1.5999999999999996"
            ]
          },
          "metadata": {},
          "execution_count": 27
        }
      ]
    },
    {
      "cell_type": "markdown",
      "source": [
        "# Exploring the Data Distribution"
      ],
      "metadata": {
        "id": "iBbPL8vV3ce2"
      }
    },
    {
      "cell_type": "code",
      "source": [
        "ax = (df[\"Murder.Rate\"]).plot.box()\n",
        "ax.set_ylabel('Murder.Rate')"
      ],
      "metadata": {
        "colab": {
          "base_uri": "https://localhost:8080/",
          "height": 447
        },
        "id": "puB2VDGUcjRd",
        "outputId": "737b754c-f45e-4209-ee06-0db164572753"
      },
      "execution_count": null,
      "outputs": [
        {
          "output_type": "execute_result",
          "data": {
            "text/plain": [
              "Text(0, 0.5, 'Murder.Rate')"
            ]
          },
          "metadata": {},
          "execution_count": 28
        },
        {
          "output_type": "display_data",
          "data": {
            "text/plain": [
              "<Figure size 640x480 with 1 Axes>"
            ],
            "image/png": "[encoded data removed]"
          },
          "metadata": {}
        }
      ]
    },
    {
      "cell_type": "code",
      "source": [
        "ax = (df['Population'] / 1_000_000).plot.hist(figsize=(4, 4))\n",
        "ax.set_xlabel('Population (millions)')"
      ],
      "metadata": {
        "colab": {
          "base_uri": "https://localhost:8080/",
          "height": 408
        },
        "id": "IXlvbO8e3Fs-",
        "outputId": "410b21a0-efca-4ecb-f05a-e20aea987043"
      },
      "execution_count": null,
      "outputs": [
        {
          "output_type": "execute_result",
          "data": {
            "text/plain": [
              "Text(0.5, 0, 'Population (millions)')"
            ]
          },
          "metadata": {},
          "execution_count": 82
        },
        {
          "output_type": "display_data",
          "data": {
            "text/plain": [
              "<Figure size 400x400 with 1 Axes>"
            ],
            "image/png": "[encoded data removed]"
          },
          "metadata": {}
        }
      ]
    },
    {
      "cell_type": "code",
      "source": [
        "ax = df['Murder.Rate'].plot.hist(density=True, xlim=[0,12], bins=range(1,12))\n",
        "df['Murder.Rate'].plot.density(ax=ax)\n",
        "ax.set_xlabel('Murder Rate (per 100,000)')"
      ],
      "metadata": {
        "id": "Zkhm6YUydt2u",
        "colab": {
          "base_uri": "https://localhost:8080/",
          "height": 466
        },
        "outputId": "f5f5f35e-8c12-4272-e089-173dbfec308b"
      },
      "execution_count": null,
      "outputs": [
        {
          "output_type": "execute_result",
          "data": {
            "text/plain": [
              "Text(0.5, 0, 'Murder Rate (per 100,000)')"
            ]
          },
          "metadata": {},
          "execution_count": 37
        },
        {
          "output_type": "display_data",
          "data": {
            "text/plain": [
              "<Figure size 640x480 with 1 Axes>"
            ],
            "image/png": "[encoded data removed]"
          },
          "metadata": {}
        }
      ]
    },
    {
      "cell_type": "code",
      "source": [
        "df.describe()"
      ],
      "metadata": {
        "colab": {
          "base_uri": "https://localhost:8080/",
          "height": 300
        },
        "id": "UTQ3TPBdv89i",
        "outputId": "4a236a63-a72e-4096-8162-cf598349c4ef"
      },
      "execution_count": null,
      "outputs": [
        {
          "output_type": "execute_result",
          "data": {
            "text/plain": [
              "         Population  Murder.Rate\n",
              "count  5.000000e+01    50.000000\n",
              "mean   6.162876e+06     4.066000\n",
              "std    6.848235e+06     1.915736\n",
              "min    5.636260e+05     0.900000\n",
              "25%    1.833004e+06     2.425000\n",
              "50%    4.436370e+06     4.000000\n",
              "75%    6.680312e+06     5.550000\n",
              "max    3.725396e+07    10.300000"
            ],
            "text/html": [
              "\n",
              "  <div id=\"df-ac3080ed-3b2e-4ce1-936e-5b96a6b0a836\" class=\"colab-df-container\">\n",
              "    <div>\n",
              "<style scoped>\n",
              "    .dataframe tbody tr th:only-of-type {\n",
              "        vertical-align: middle;\n",
              "    }\n",
              "\n",
              "    .dataframe tbody tr th {\n",
              "        vertical-align: top;\n",
              "    }\n",
              "\n",
              "    .dataframe thead th {\n",
              "        text-align: right;\n",
              "    }\n",
              "</style>\n",
              "<table border=\"1\" class=\"dataframe\">\n",
              "  <thead>\n",
              "    <tr style=\"text-align: right;\">\n",
              "      <th></th>\n",
              "      <th>Population</th>\n",
              "      <th>Murder.Rate</th>\n",
              "    </tr>\n",
              "  </thead>\n",
              "  <tbody>\n",
              "    <tr>\n",
              "      <th>count</th>\n",
              "      <td>5.000000e+01</td>\n",
              "      <td>50.000000</td>\n",
              "    </tr>\n",
              "    <tr>\n",
              "      <th>mean</th>\n",
              "      <td>6.162876e+06</td>\n",
              "      <td>4.066000</td>\n",
              "    </tr>\n",
              "    <tr>\n",
              "      <th>std</th>\n",
              "      <td>6.848235e+06</td>\n",
              "      <td>1.915736</td>\n",
              "    </tr>\n",
              "    <tr>\n",
              "      <th>min</th>\n",
              "      <td>5.636260e+05</td>\n",
              "      <td>0.900000</td>\n",
              "    </tr>\n",
              "    <tr>\n",
              "      <th>25%</th>\n",
              "      <td>1.833004e+06</td>\n",
              "      <td>2.425000</td>\n",
              "    </tr>\n",
              "    <tr>\n",
              "      <th>50%</th>\n",
              "      <td>4.436370e+06</td>\n",
              "      <td>4.000000</td>\n",
              "    </tr>\n",
              "    <tr>\n",
              "      <th>75%</th>\n",
              "      <td>6.680312e+06</td>\n",
              "      <td>5.550000</td>\n",
              "    </tr>\n",
              "    <tr>\n",
              "      <th>max</th>\n",
              "      <td>3.725396e+07</td>\n",
              "      <td>10.300000</td>\n",
              "    </tr>\n",
              "  </tbody>\n",
              "</table>\n",
              "</div>\n",
              "    <div class=\"colab-df-buttons\">\n",
              "\n",
              "  <div class=\"colab-df-container\">\n",
              "    <button class=\"colab-df-convert\" onclick=\"convertToInteractive('df-ac3080ed-3b2e-4ce1-936e-5b96a6b0a836')\"\n",
              "            title=\"Convert this dataframe to an interactive table.\"\n",
              "            style=\"display:none;\">\n",
              "\n",
              "  <svg xmlns=\"http://www.w3.org/2000/svg\" height=\"24px\" viewBox=\"0 -960 960 960\">\n",
              "    <path d=\"M120-120v-720h720v720H120Zm60-500h600v-160H180v160Zm220 220h160v-160H400v160Zm0 220h160v-160H400v160ZM180-400h160v-160H180v160Zm440 0h160v-160H620v160ZM180-180h160v-160H180v160Zm440 0h160v-160H620v160Z\"/>\n",
              "  </svg>\n",
              "    </button>\n",
              "\n",
              "  <style>\n",
              "    .colab-df-container {\n",
              "      display:flex;\n",
              "      gap: 12px;\n",
              "    }\n",
              "\n",
              "    .colab-df-convert {\n",
              "      background-color: #E8F0FE;\n",
              "      border: none;\n",
              "      border-radius: 50%;\n",
              "      cursor: pointer;\n",
              "      display: none;\n",
              "      fill: #1967D2;\n",
              "      height: 32px;\n",
              "      padding: 0 0 0 0;\n",
              "      width: 32px;\n",
              "    }\n",
              "\n",
              "    .colab-df-convert:hover {\n",
              "      background-color: #E2EBFA;\n",
              "      box-shadow: 0px 1px 2px rgba(60, 64, 67, 0.3), 0px 1px 3px 1px rgba(60, 64, 67, 0.15);\n",
              "      fill: #174EA6;\n",
              "    }\n",
              "\n",
              "    .colab-df-buttons div {\n",
              "      margin-bottom: 4px;\n",
              "    }\n",
              "\n",
              "    [theme=dark] .colab-df-convert {\n",
              "      background-color: #3B4455;\n",
              "      fill: #D2E3FC;\n",
              "    }\n",
              "\n",
              "    [theme=dark] .colab-df-convert:hover {\n",
              "      background-color: #434B5C;\n",
              "      box-shadow: 0px 1px 3px 1px rgba(0, 0, 0, 0.15);\n",
              "      filter: drop-shadow(0px 1px 2px rgba(0, 0, 0, 0.3));\n",
              "      fill: #FFFFFF;\n",
              "    }\n",
              "  </style>\n",
              "\n",
              "    <script>\n",
              "      const buttonEl =\n",
              "        document.querySelector('#df-ac3080ed-3b2e-4ce1-936e-5b96a6b0a836 button.colab-df-convert');\n",
              "      buttonEl.style.display =\n",
              "        google.colab.kernel.accessAllowed ? 'block' : 'none';\n",
              "\n",
              "      async function convertToInteractive(key) {\n",
              "        const element = document.querySelector('#df-ac3080ed-3b2e-4ce1-936e-5b96a6b0a836');\n",
              "        const dataTable =\n",
              "          await google.colab.kernel.invokeFunction('convertToInteractive',\n",
              "                                                    [key], {});\n",
              "        if (!dataTable) return;\n",
              "\n",
              "        const docLinkHtml = 'Like what you see? Visit the ' +\n",
              "          '<a target=\"_blank\" href=https://colab.research.google.com/notebooks/data_table.ipynb>data table notebook</a>'\n",
              "          + ' to learn more about interactive tables.';\n",
              "        element.innerHTML = '';\n",
              "        dataTable['output_type'] = 'display_data';\n",
              "        await google.colab.output.renderOutput(dataTable, element);\n",
              "        const docLink = document.createElement('div');\n",
              "        docLink.innerHTML = docLinkHtml;\n",
              "        element.appendChild(docLink);\n",
              "      }\n",
              "    </script>\n",
              "  </div>\n",
              "\n",
              "\n",
              "<div id=\"df-768df942-032c-4e72-b243-ec60b164e8bb\">\n",
              "  <button class=\"colab-df-quickchart\" onclick=\"quickchart('df-768df942-032c-4e72-b243-ec60b164e8bb')\"\n",
              "            title=\"Suggest charts.\"\n",
              "            style=\"display:none;\">\n",
              "\n",
              "<svg xmlns=\"http://www.w3.org/2000/svg\" height=\"24px\"viewBox=\"0 0 24 24\"\n",
              "     width=\"24px\">\n",
              "    <g>\n",
              "        <path d=\"M19 3H5c-1.1 0-2 .9-2 2v14c0 1.1.9 2 2 2h14c1.1 0 2-.9 2-2V5c0-1.1-.9-2-2-2zM9 17H7v-7h2v7zm4 0h-2V7h2v10zm4 0h-2v-4h2v4z\"/>\n",
              "    </g>\n",
              "</svg>\n",
              "  </button>\n",
              "\n",
              "<style>\n",
              "  .colab-df-quickchart {\n",
              "      --bg-color: #E8F0FE;\n",
              "      --fill-color: #1967D2;\n",
              "      --hover-bg-color: #E2EBFA;\n",
              "      --hover-fill-color: #174EA6;\n",
              "      --disabled-fill-color: #AAA;\n",
              "      --disabled-bg-color: #DDD;\n",
              "  }\n",
              "\n",
              "  [theme=dark] .colab-df-quickchart {\n",
              "      --bg-color: #3B4455;\n",
              "      --fill-color: #D2E3FC;\n",
              "      --hover-bg-color: #434B5C;\n",
              "      --hover-fill-color: #FFFFFF;\n",
              "      --disabled-bg-color: #3B4455;\n",
              "      --disabled-fill-color: #666;\n",
              "  }\n",
              "\n",
              "  .colab-df-quickchart {\n",
              "    background-color: var(--bg-color);\n",
              "    border: none;\n",
              "    border-radius: 50%;\n",
              "    cursor: pointer;\n",
              "    display: none;\n",
              "    fill: var(--fill-color);\n",
              "    height: 32px;\n",
              "    padding: 0;\n",
              "    width: 32px;\n",
              "  }\n",
              "\n",
              "  .colab-df-quickchart:hover {\n",
              "    background-color: var(--hover-bg-color);\n",
              "    box-shadow: 0 1px 2px rgba(60, 64, 67, 0.3), 0 1px 3px 1px rgba(60, 64, 67, 0.15);\n",
              "    fill: var(--button-hover-fill-color);\n",
              "  }\n",
              "\n",
              "  .colab-df-quickchart-complete:disabled,\n",
              "  .colab-df-quickchart-complete:disabled:hover {\n",
              "    background-color: var(--disabled-bg-color);\n",
              "    fill: var(--disabled-fill-color);\n",
              "    box-shadow: none;\n",
              "  }\n",
              "\n",
              "  .colab-df-spinner {\n",
              "    border: 2px solid var(--fill-color);\n",
              "    border-color: transparent;\n",
              "    border-bottom-color: var(--fill-color);\n",
              "    animation:\n",
              "      spin 1s steps(1) infinite;\n",
              "  }\n",
              "\n",
              "  @keyframes spin {\n",
              "    0% {\n",
              "      border-color: transparent;\n",
              "      border-bottom-color: var(--fill-color);\n",
              "      border-left-color: var(--fill-color);\n",
              "    }\n",
              "    20% {\n",
              "      border-color: transparent;\n",
              "      border-left-color: var(--fill-color);\n",
              "      border-top-color: var(--fill-color);\n",
              "    }\n",
              "    30% {\n",
              "      border-color: transparent;\n",
              "      border-left-color: var(--fill-color);\n",
              "      border-top-color: var(--fill-color);\n",
              "      border-right-color: var(--fill-color);\n",
              "    }\n",
              "    40% {\n",
              "      border-color: transparent;\n",
              "      border-right-color: var(--fill-color);\n",
              "      border-top-color: var(--fill-color);\n",
              "    }\n",
              "    60% {\n",
              "      border-color: transparent;\n",
              "      border-right-color: var(--fill-color);\n",
              "    }\n",
              "    80% {\n",
              "      border-color: transparent;\n",
              "      border-right-color: var(--fill-color);\n",
              "      border-bottom-color: var(--fill-color);\n",
              "    }\n",
              "    90% {\n",
              "      border-color: transparent;\n",
              "      border-bottom-color: var(--fill-color);\n",
              "    }\n",
              "  }\n",
              "</style>\n",
              "\n",
              "  <script>\n",
              "    async function quickchart(key) {\n",
              "      const quickchartButtonEl =\n",
              "        document.querySelector('#' + key + ' button');\n",
              "      quickchartButtonEl.disabled = true;  // To prevent multiple clicks.\n",
              "      quickchartButtonEl.classList.add('colab-df-spinner');\n",
              "      try {\n",
              "        const charts = await google.colab.kernel.invokeFunction(\n",
              "            'suggestCharts', [key], {});\n",
              "      } catch (error) {\n",
              "        console.error('Error during call to suggestCharts:', error);\n",
              "      }\n",
              "      quickchartButtonEl.classList.remove('colab-df-spinner');\n",
              "      quickchartButtonEl.classList.add('colab-df-quickchart-complete');\n",
              "    }\n",
              "    (() => {\n",
              "      let quickchartButtonEl =\n",
              "        document.querySelector('#df-768df942-032c-4e72-b243-ec60b164e8bb button');\n",
              "      quickchartButtonEl.style.display =\n",
              "        google.colab.kernel.accessAllowed ? 'block' : 'none';\n",
              "    })();\n",
              "  </script>\n",
              "</div>\n",
              "    </div>\n",
              "  </div>\n"
            ]
          },
          "metadata": {},
          "execution_count": 38
        }
      ]
    },
    {
      "cell_type": "code",
      "source": [
        "np.absolute(0.900000-10.300000)/11"
      ],
      "metadata": {
        "colab": {
          "base_uri": "https://localhost:8080/"
        },
        "id": "RbVqGMAKwZPG",
        "outputId": "8c065881-b871-4432-d37b-7f3956f9d405"
      },
      "execution_count": null,
      "outputs": [
        {
          "output_type": "execute_result",
          "data": {
            "text/plain": [
              "0.8545454545454546"
            ]
          },
          "metadata": {},
          "execution_count": 43
        }
      ]
    },
    {
      "cell_type": "code",
      "source": [
        ".8545454545454546+.9"
      ],
      "metadata": {
        "colab": {
          "base_uri": "https://localhost:8080/"
        },
        "id": "QgXC8N9QwoZu",
        "outputId": "34a86cc5-34ac-4db4-8754-6902c6ee2aae"
      },
      "execution_count": null,
      "outputs": [
        {
          "output_type": "execute_result",
          "data": {
            "text/plain": [
              "1.7545454545454546"
            ]
          },
          "metadata": {},
          "execution_count": 44
        }
      ]
    }
  ]
}